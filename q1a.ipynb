import pandas as pd
import numpy as np
import re
from qiskit import QuantumCircuit  # Removed Aer and execute imports
from qiskit.circuit.library import RealAmplitudes
from azure.quantum.qiskit import AzureQuantumProvider
from datasets import load_dataset


# 🔹 1. Download and Combine Datasets
print("📥 Downloading datasets...")

# Load SQuAD dataset from Hugging Face
squad = load_dataset("squad", split="train")
# Fix: Extracting answers correctly from the 'answers' dictionary
squad_df = pd.DataFrame({
    "Question": squad["question"],
    "Answer": [a["text"][0] if isinstance(a["text"], list) else a["text"] for a in squad["answers"]]
})

# Combine only the SQuAD dataset
df = squad_df
print("✅ Combined dataset:", len(df), "questions and answers.")

# 🔹 2. Data Cleaning
def clean_text(text):
    """Cleans the text by making it lowercase and removing non-alphanumeric characters."""
    text = text.lower()
    text = re.sub(r'[^a-zA-Z0-9\s]', '', text)
    return text.strip()

df["Question"] = df["Question"].apply(clean_text)
df["Answer"] = df["Answer"].apply(clean_text)
df = df.drop_duplicates(subset=["Question"])

print("✅ After cleaning, there are", len(df), "unique questions.")

print("\n🔹 First 10 Questions and Answers after cleaning:")
for i in range(10):
    question = df.iloc[i]["Question"]
    answer = df.iloc[i]["Answer"]
    print(f"Q{i + 1}: {question}")
    print(f"A{i + 1}: {answer}\n")

# 🔹 3. Quantum Encoding
def text_to_quantum(text):
    """Encodes the text into a quantum state."""
    vector = np.array([ord(c) for c in text[:10]])  # Convert text to a vector using ASCII values
    vector = vector / np.linalg.norm(vector)  # Normalize the vector
    qc = QuantumCircuit(len(vector))
    for i, val in enumerate(vector):
        qc.ry(val * np.pi, i)  # Apply a rotation to each qubit based on the vector value
    qc.measure_all()  # Add measurement to the circuit
    return qc

# 🔹 4. Configure Azure Quantum and Create the Model
provider = AzureQuantumProvider(
    resource_id="/subscriptions/a004774b-ece1-4b79-9597-e99f0fa5acb6/resourceGroups/AzureQuantum/providers/Microsoft.Quantum/Workspaces/Q1A",
    location="westeurope"  # Example region, replace with your actual region
)

num_qubits = 10
qc_model = QuantumCircuit(num_qubits)
vqc = RealAmplitudes(num_qubits, entanglement="full", reps=3)
qc_model.compose(vqc, inplace=True)

backend = provider.get_backend("ionq.simulator")

# 🔹 5. Inference: Answering a Question
def inference(question):
    """Runs the model to answer a question."""
    qc_input = text_to_quantum(question)  # Convert the input question to a quantum state
    job = backend.run(qc_input, shots=100)  # Run the quantum model on Azure
    result = job.result()
    
    # Get the most frequent result from the quantum computation (interpreted as an answer index)
    counts = result.get_counts()
    print(f"Counts: {counts}")  # Stampa i conteggi per il debug
    
    # Seleziona il risultato più frequente
    answer_index = max(counts, key=counts.get)  # Most frequent result
    print(f"Answer index (binary): {answer_index}")  # Stampa l'indice binario
    
    # Convert the binary result to an integer index
    answer_index_int = int(answer_index, 2)
    print(f"Answer index (integer): {answer_index_int}")  # Stampa l'indice come intero
    
    # Verifica che l'indice sia valido
    if answer_index_int < len(df):  # Check to ensure valid index
        answer = df["Answer"].iloc[answer_index_int]
    else:
        answer = "Sorry, I couldn't understand the question."
    
    return answer


# Test the chatbot
print("🤖 Answer:", inference("when did the scholastic magazine of notre dame begin publishing"))
print("🤖 Answer:", inference("who wrote hamlet"))
print("🤖 Answer:", inference("who is the president of the united states"))
